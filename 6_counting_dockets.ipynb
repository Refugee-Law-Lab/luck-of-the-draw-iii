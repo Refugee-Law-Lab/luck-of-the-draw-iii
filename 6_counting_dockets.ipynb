{
 "cells": [
  {
   "cell_type": "code",
   "execution_count": 1,
   "metadata": {},
   "outputs": [],
   "source": [
    "from datasets import load_dataset\n",
    "import tiktoken\n",
    "import pandas as pd\n",
    "from tqdm import tqdm\n",
    "tqdm.pandas()"
   ]
  },
  {
   "cell_type": "code",
   "execution_count": 2,
   "metadata": {},
   "outputs": [
    {
     "data": {
      "text/html": [
       "<div>\n",
       "<style scoped>\n",
       "    .dataframe tbody tr th:only-of-type {\n",
       "        vertical-align: middle;\n",
       "    }\n",
       "\n",
       "    .dataframe tbody tr th {\n",
       "        vertical-align: top;\n",
       "    }\n",
       "\n",
       "    .dataframe thead th {\n",
       "        text-align: right;\n",
       "    }\n",
       "</style>\n",
       "<table border=\"1\" class=\"dataframe\">\n",
       "  <thead>\n",
       "    <tr style=\"text-align: right;\">\n",
       "      <th></th>\n",
       "      <th>citation</th>\n",
       "      <th>year</th>\n",
       "      <th>name</th>\n",
       "      <th>date_filed</th>\n",
       "      <th>city_filed</th>\n",
       "      <th>nature</th>\n",
       "      <th>class</th>\n",
       "      <th>track</th>\n",
       "      <th>documents</th>\n",
       "      <th>source_url</th>\n",
       "      <th>scraped_timestamp</th>\n",
       "    </tr>\n",
       "  </thead>\n",
       "  <tbody>\n",
       "    <tr>\n",
       "      <th>0</th>\n",
       "      <td>IMM-10085-12</td>\n",
       "      <td>2012</td>\n",
       "      <td>EDITH VICTORIA CASTRO RODRIGUES v. MCI</td>\n",
       "      <td>2012-10-01</td>\n",
       "      <td>Toronto</td>\n",
       "      <td>Imm - Appl. for leave &amp; jud. review - IRB - Re...</td>\n",
       "      <td>Non-Action</td>\n",
       "      <td>Immigration Leave &amp; Judicial Review</td>\n",
       "      <td>[{'DOCNO': None, 'DOC_DT': '2013-04-25', 'RECO...</td>\n",
       "      <td>https://www.fct-cf.gc.ca/en/court-files-and-de...</td>\n",
       "      <td>2022-11-23</td>\n",
       "    </tr>\n",
       "  </tbody>\n",
       "</table>\n",
       "</div>"
      ],
      "text/plain": [
       "       citation  year                                    name  date_filed   \n",
       "0  IMM-10085-12  2012  EDITH VICTORIA CASTRO RODRIGUES v. MCI  2012-10-01  \\\n",
       "\n",
       "  city_filed                                             nature       class   \n",
       "0    Toronto  Imm - Appl. for leave & jud. review - IRB - Re...  Non-Action  \\\n",
       "\n",
       "                                 track   \n",
       "0  Immigration Leave & Judicial Review  \\\n",
       "\n",
       "                                           documents   \n",
       "0  [{'DOCNO': None, 'DOC_DT': '2013-04-25', 'RECO...  \\\n",
       "\n",
       "                                          source_url scraped_timestamp  \n",
       "0  https://www.fct-cf.gc.ca/en/court-files-and-de...        2022-11-23  "
      ]
     },
     "execution_count": 2,
     "metadata": {},
     "output_type": "execute_result"
    }
   ],
   "source": [
    "# load dataset\n",
    "dataset = load_dataset(\"refugee-law-lab/luck-of-the-draw-iii\", split=\"train\")\n",
    "\n",
    "# convert dataset to df\n",
    "df = pd.DataFrame(dataset)\n",
    "df.head(1)"
   ]
  },
  {
   "cell_type": "code",
   "execution_count": 3,
   "metadata": {},
   "outputs": [
    {
     "name": "stdout",
     "output_type": "stream",
     "text": [
      "{'DOCNO': None, 'DOC_DT': '2013-04-25', 'RECORDED_ENTRY': \" Memorandum to file from Ann Murphy dated 25-APR-2013 further to phone conversations with the Law Society concerning the death of Applicant's counsel and the Applicant's dismissed order, I have been advised that the Law Society has advised the Applicant that she should retain new counsel and contact the Federal.  The Law Society will not provide the registry with the address of the Applicant in order for the registry to send out the dismissed order.  The Law Society will not advise  the Applicant that her Application was dismissed. placed on file.\", 'RE_NO': 14}\n",
      "{'DOCNO': None, 'DOC_DT': '2013-04-16', 'RECORDED_ENTRY': \" Memorandum to file from Ann Murphy dated 16-APR-2013 I have contacted the Law Society of Upper Canada concering status of Mr. Makepeace's legal file, for this Applicant in light of the fact he is now deceased.  They will call me back. BF 25-apr-2013 placed on file.\", 'RE_NO': 13}\n",
      "{'DOCNO': None, 'DOC_DT': '2013-04-03', 'RECORDED_ENTRY': \" Memorandum to file from Ann Murphy dated 03-APR-2013 I have contacted the Law Society of Upper Canada concerning Mr. Makepeace, Applicant's counsel, who is now deceased to enquire as to an address for the Applicant, in order to send her the final order.  The Law Society will call me back BF 12-apr-2013 placed on file.\", 'RE_NO': 12}\n",
      "{'DOCNO': None, 'DOC_DT': '2013-04-03', 'RECORDED_ENTRY': \" Memorandum to file from Ann Murphy dated 03-APR-2013 Envelope containing final order and letter returned to registry with notation on envelope noting that Applicant's counsel is deceased. I called Applicant's counsel at telephone number shown on Applicant's Record Applicant's voice mail is full.  I was not able to contact anyone else in Applicant's office as he appears to be a sole practitioner. placed on file.\", 'RE_NO': 11}\n",
      "{'DOCNO': None, 'DOC_DT': '2013-03-22', 'RECORDED_ENTRY': '  (Final decision) Order rendered by The Honourable Mr. Justice de Montigny at Ottawa on 22-MAR-2013 \\ndismissing the application for leave \\nDecision endorsed on the record on doc. 2 received on 22-MAR-2013 \\nConsidered by the Court without personal appearance \\nentered in J. & O. Book, volume 593 page(s) 87 - 87 \\nCertificate of the order sent to all parties \\nTransmittal Letters placed on file.    ', 'RE_NO': 10}\n",
      "{'DOCNO': None, 'DOC_DT': '2013-02-15', 'RECORDED_ENTRY': ' Communication to the Court from the Registry dated 15-FEB-2013 re: LEAVE APPLICATION', 'RE_NO': 9}\n",
      "{'DOCNO': 6.0, 'DOC_DT': '2012-12-04', 'RECORDED_ENTRY': 'Affidavit of AWO MOHAMOUD on behalf of the respondent sworn on 04-DEC-2012 confirming service of doc 5 on the applicant by telecopier on 04-DEC-2012 filed on 04-DEC-2012', 'RE_NO': 8}\n",
      "{'DOCNO': 5.0, 'DOC_DT': '2012-12-04', 'RECORDED_ENTRY': ' Memorandum of argument on behalf of the respondent filed on 04-DEC-2012', 'RE_NO': 7}\n",
      "{'DOCNO': 4.0, 'DOC_DT': '2012-11-09', 'RECORDED_ENTRY': ' Application Record \\nNumber of copies received/prepared: 2 on behalf of Applicant \\nwith proof of service upon Respondent on 05-NOV-2012 \\nfiled on 09-NOV-2012', 'RE_NO': 6}\n",
      "{'DOCNO': None, 'DOC_DT': '2012-11-13', 'RECORDED_ENTRY': \" Oral directions of the Court: The Honourable Mr. Justice Hughes dated 13-NOV-2012 directing that the Applicant's Application Record be filed as of 09-NOV-2012. received on 13-NOV-2012\", 'RE_NO': 5}\n",
      "{'DOCNO': None, 'DOC_DT': '2012-11-09', 'RECORDED_ENTRY': ' Letter from Applicant dated 09-NOV-2012 seeking direction regarding the late filing of the Application Record, attaching consent from the Respondent received on 09-NOV-2012', 'RE_NO': 4}\n",
      "{'DOCNO': 3.0, 'DOC_DT': '2012-10-11', 'RECORDED_ENTRY': ' Notice of appearance on behalf of the respondent filed on 11-OCT-2012 with proof of service on the applicant the tribunal', 'RE_NO': 3}\n",
      "{'DOCNO': 2.0, 'DOC_DT': '2012-10-05', 'RECORDED_ENTRY': ' Copy of DOC. #1 with proof of service on the respondent on 01-OCT-2012 filed on 05-OCT-2012', 'RE_NO': 2}\n",
      "{'DOCNO': 1.0, 'DOC_DT': '2012-10-01', 'RECORDED_ENTRY': 'Application for leave and judicial review against a decision IRB TORONTO, 7-SEP-2012, TA1-13272 filed on 01-OCT-2012 Written reasons received by the Applicant Tariff fee of $50.00 received', 'RE_NO': 1}\n"
     ]
    }
   ],
   "source": [
    "# example of docket\n",
    "docket = df.iloc[0].documents\n",
    "for docket_entry in docket:\n",
    "    print(docket_entry)"
   ]
  },
  {
   "cell_type": "code",
   "execution_count": 4,
   "metadata": {},
   "outputs": [
    {
     "name": "stderr",
     "output_type": "stream",
     "text": [
      "100%|██████████| 218639/218639 [01:16<00:00, 2868.34it/s]\n"
     ]
    }
   ],
   "source": [
    "# Count tokens\n",
    "def count_tokens(text, model = \"cl100k_base\"):\n",
    "    encoding = tiktoken.get_encoding(model)\n",
    "    num_tokens = len(encoding.encode(text))\n",
    "    return num_tokens\n",
    "\n",
    "def list_dict_to_token_count(documents):\n",
    "    text = \"\"\n",
    "    for doc in documents:\n",
    "        text = text + \" \".join([str(v) for k,v in doc.items()])\n",
    "    return count_tokens(text)   \n",
    "\n",
    "df['num_tokens'] = df['documents'].progress_apply(list_dict_to_token_count)"
   ]
  },
  {
   "cell_type": "code",
   "execution_count": 5,
   "metadata": {},
   "outputs": [
    {
     "name": "stdout",
     "output_type": "stream",
     "text": [
      "Number of dockets: 218639\n",
      "\n",
      "Total number of tokens in all dockets: 181,371,722\n",
      "\n",
      "Number of tokens per docket:\n",
      "\n",
      "Average number of tokens: 829.5\n",
      "Median number of tokens: 538.0\n",
      "Max number of tokens: 39388\n",
      "Min number of tokens: 23\n",
      "Quartiles for number of tokens:\n",
      "0.25     411.0\n",
      "0.50     538.0\n",
      "0.75    1057.0\n",
      "Name: num_tokens, dtype: float64\n",
      "Top 10% of tokens: 0.9    1682.0\n",
      "Name: num_tokens, dtype: float64\n",
      "Top 5% of tokens: 0.95    2145.0\n",
      "Name: num_tokens, dtype: float64\n",
      "Top 1% of tokens: 0.99    3432.0\n",
      "Name: num_tokens, dtype: float64\n",
      "Top 0.1% of tokens: 0.999    6619.724\n",
      "Name: num_tokens, dtype: float64\n",
      "Percentage of dockets with more than 4000 tokens: 0.58 %\n"
     ]
    }
   ],
   "source": [
    "# Summary stats\n",
    "print(\"Number of dockets:\",len(df))\n",
    "print()\n",
    "print(\"Total number of tokens in all dockets:\",f\"{df['num_tokens'].sum():,}\")\n",
    "print()\n",
    "print(\"Number of tokens per docket:\")\n",
    "print()\n",
    "print(\"Average number of tokens:\",round(df['num_tokens'].mean(),1))\n",
    "print(\"Median number of tokens:\",df['num_tokens'].median())\n",
    "print(\"Max number of tokens:\",df['num_tokens'].max())\n",
    "print(\"Min number of tokens:\",df['num_tokens'].min())\n",
    "print(\"Quartiles for number of tokens:\")\n",
    "print(df['num_tokens'].quantile([.25, .5, .75]))\n",
    "print(\"Top 10% of tokens:\",df['num_tokens'].quantile([.9]))\n",
    "print(\"Top 5% of tokens:\",df['num_tokens'].quantile([.95]))\n",
    "print(\"Top 1% of tokens:\",df['num_tokens'].quantile([.99]))\n",
    "print(\"Top 0.1% of tokens:\",df['num_tokens'].quantile([.999]))\n",
    "print(\"Percentage of dockets with more than 4000 tokens:\",round((df['num_tokens']>4000).mean()*100,2),\"%\")\n",
    "\n"
   ]
  },
  {
   "cell_type": "code",
   "execution_count": 8,
   "metadata": {},
   "outputs": [
    {
     "data": {
      "text/plain": [
       "nature\n",
       "Imm - Appl. for leave & jud. review - IRB - Refugee                       105774\n",
       "Imm - Appl. for leave & jud. review - Other Arising in Canada              37804\n",
       "Imm - Appl. for leave & jud. review - Arising outside Canada               30698\n",
       "Imm - Appl. for leave & jud. review - Pre-removal risk assessment          10856\n",
       "Imm - Appl. for leave & jud. review - IRB - Refugee Appeal Division         9855\n",
       "Imm - Appl. for leave & jud. review - IRB -Immigration Appeal Division      6757\n",
       "Imm - Application for Judicial Review - Visa Officer                        4707\n",
       "Imm - Appl. for leave & jud. review - IRB - Refugee Protection Div.         2943\n",
       "Imm - Appl. for leave & judicial review & extension - CRDD                  2574\n",
       "Imm - Appl. for leave & jud. review - IRB - Immigration Division            1776\n",
       "Imm - Appl. for leave & judicial review - H&C                               1340\n",
       "Imm - Appl. for leave & judicial review & extension - Others                1020\n",
       "Imm - Appl. for leave & judicial review - SIO                                949\n",
       "Imm - Extension of time for Judicial Review - Visa Officer                   378\n",
       "Imm - Appl. for leave & judicial review & extension - IAD                    313\n",
       "Imm - Appl. for leave & judicial review & extension - SIO                    251\n",
       "Imm - Appl. for leave & judicial review & extension - H&C                    235\n",
       "File cancelled - Immigration                                                 229\n",
       "Imm - Actions / Other (non-leave) proceedings                                132\n",
       "Imm - Certificate                                                             36\n",
       "Citizenship - Application for leave (by Applicant)                             3\n",
       "File cancelled - Federal Court                                                 3\n",
       "Imm - Reference - s. 18.3                                                      2\n",
       "Citizenship (Appeal by Applicant)                                              2\n",
       "Others - Crown (v. Queen) [Applications]                                       1\n",
       "S. 18.1 Application for Judicial Review                                        1\n",
       "Name: count, dtype: int64"
      ]
     },
     "execution_count": 8,
     "metadata": {},
     "output_type": "execute_result"
    }
   ],
   "source": [
    "# main groups\n",
    "df['nature'].value_counts()"
   ]
  },
  {
   "cell_type": "code",
   "execution_count": 10,
   "metadata": {},
   "outputs": [
    {
     "name": "stdout",
     "output_type": "stream",
     "text": [
      "Number of refugee law JR dockets: 118572\n",
      "\n",
      "Total number of tokens in all refugee law dockets: 83,823,756\n",
      "\n",
      "Number of tokens per refugee law docket:\n",
      "\n",
      "Average number of tokens: 706.9\n",
      "Median number of tokens: 500.0\n",
      "Max number of tokens: 18222\n",
      "Min number of tokens: 99\n",
      "Quartiles for number of tokens:\n",
      "0.25    406.0\n",
      "0.50    500.0\n",
      "0.75    787.0\n",
      "Name: num_tokens, dtype: float64\n",
      "Top 10% of tokens: 0.9    1416.0\n",
      "Name: num_tokens, dtype: float64\n",
      "Top 5% of tokens: 0.95    1772.0\n",
      "Name: num_tokens, dtype: float64\n",
      "Top 1% of tokens: 0.99    2746.58\n",
      "Name: num_tokens, dtype: float64\n",
      "Top 0.1% of tokens: 0.999    4733.003\n",
      "Name: num_tokens, dtype: float64\n",
      "Percentage of dockets with more than 4000 tokens: 0.2 %\n"
     ]
    }
   ],
   "source": [
    "# Summary stats: Refugee cases only\n",
    "df = df[df['nature'].str.contains(\"Refugee\")]\n",
    "print(\"Number of refugee law JR dockets:\",len(df))\n",
    "print()\n",
    "print(\"Total number of tokens in all refugee law dockets:\",f\"{df['num_tokens'].sum():,}\")\n",
    "print()\n",
    "print(\"Number of tokens per refugee law docket:\")\n",
    "print()\n",
    "print(\"Average number of tokens:\",round(df['num_tokens'].mean(),1))\n",
    "print(\"Median number of tokens:\",df['num_tokens'].median())\n",
    "print(\"Max number of tokens:\",df['num_tokens'].max())\n",
    "print(\"Min number of tokens:\",df['num_tokens'].min())\n",
    "print(\"Quartiles for number of tokens:\")\n",
    "print(df['num_tokens'].quantile([.25, .5, .75]))\n",
    "print(\"Top 10% of tokens:\",df['num_tokens'].quantile([.9]))\n",
    "print(\"Top 5% of tokens:\",df['num_tokens'].quantile([.95]))\n",
    "print(\"Top 1% of tokens:\",df['num_tokens'].quantile([.99]))\n",
    "print(\"Top 0.1% of tokens:\",df['num_tokens'].quantile([.999]))\n",
    "print(\"Percentage of dockets with more than 4000 tokens:\",round((df['num_tokens']>4000).mean()*100,2),\"%\")"
   ]
  },
  {
   "cell_type": "markdown",
   "metadata": {},
   "source": [
    "### Conclusion\n",
    "\n",
    "181 million tokens for pre-training (all dockets)\n",
    "84 million tokens for pre-training (refugee law dockets)\n",
    "\n",
    "118k refugee law dockets for fine-tuning\n",
    "\n",
    "While some dockets are lengthy (e.g. >20k tokens), the vast majority are under 4000 tokens, especially \n",
    "in the refugee law setting (i.e. 99.8% of dockets). That being said a substantial portion (50%) are over 500 tokens. It's fine if we have to discard the 0.2% of too long dockets (or truncate them in some way)\n",
    "\n",
    "Upshot: Typical BERT model will not work. Need either to pre-process the dockets in some way to reduce length or work with model that can accommodate a larger context window. "
   ]
  },
  {
   "cell_type": "code",
   "execution_count": null,
   "metadata": {},
   "outputs": [],
   "source": []
  }
 ],
 "metadata": {
  "kernelspec": {
   "display_name": "venv311",
   "language": "python",
   "name": "python3"
  },
  "language_info": {
   "codemirror_mode": {
    "name": "ipython",
    "version": 3
   },
   "file_extension": ".py",
   "mimetype": "text/x-python",
   "name": "python",
   "nbconvert_exporter": "python",
   "pygments_lexer": "ipython3",
   "version": "3.11.4"
  }
 },
 "nbformat": 4,
 "nbformat_minor": 2
}
