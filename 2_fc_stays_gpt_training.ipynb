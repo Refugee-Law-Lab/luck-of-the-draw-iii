{
 "cells": [
  {
   "cell_type": "markdown",
   "id": "64844d3d",
   "metadata": {},
   "source": [
    "# Train Federal Refugee JR Stay Docket Parsing Models\n",
    "\n",
    "Code to train OpenAI models to assist with parsing online Federal Court dockets involving stays of removal\n",
    "\n",
    "Requires OpenAI account and OpenAI API key, which can be obtained here: \n",
    "\n",
    "https://openai.com/api/\n",
    "\n",
    "NOTE: For the published article OpenAI's ADA model was used. However, as of January 2024, that model has been deprecated and the process for submitting fine tunes has been revised. For further details see final markdown cell."
   ]
  },
  {
   "cell_type": "markdown",
   "id": "85b58686",
   "metadata": {},
   "source": [
    "### Setup"
   ]
  },
  {
   "cell_type": "code",
   "execution_count": 1,
   "id": "3ba517fe",
   "metadata": {},
   "outputs": [],
   "source": [
    "import pandas as pd\n",
    "import json\n",
    "from openai import OpenAI\n",
    "client = OpenAI()"
   ]
  },
  {
   "cell_type": "code",
   "execution_count": 2,
   "id": "0a2bf3ce",
   "metadata": {},
   "outputs": [],
   "source": [
    "# SETTINGS TO CHANGE\n",
    "\n",
    "# Set paths for notice model\n",
    "stay_notice_type_training_data = 'training_data/stays_notice_types_human_coded.xlsx'\n",
    "stay_notice_types_output = 'training_data/stays_notice_types_human_coded.jsonl'\n",
    "\n",
    "# Set paths for order models\n",
    "stay_order_type_training_data = 'training_data/stays_order_types_human_coded.xlsx'\n",
    "stay_order_types_output = 'training_data/stays_order_types_human_coded.jsonl'\n",
    "stay_order_outcomes_output = 'training_data/stays_order_outcomes_human_coded.jsonl'\n",
    "\n",
    "# Set paths for judges model\n",
    "subfield_training_data = 'training_data/fc_dockets_human_coded_subfields.xlsx'\n",
    "subfield_training_data = 'training_data/stays_judges_human_coded.xlsx'\n",
    "judges_output = 'training_data/stays_judges_human_coded.jsonl'"
   ]
  },
  {
   "cell_type": "markdown",
   "id": "8c57e597",
   "metadata": {},
   "source": [
    "### Get training docs for notice model\n"
   ]
  },
  {
   "cell_type": "code",
   "execution_count": 3,
   "id": "7c904b19",
   "metadata": {},
   "outputs": [
    {
     "data": {
      "text/html": [
       "<div>\n",
       "<style scoped>\n",
       "    .dataframe tbody tr th:only-of-type {\n",
       "        vertical-align: middle;\n",
       "    }\n",
       "\n",
       "    .dataframe tbody tr th {\n",
       "        vertical-align: top;\n",
       "    }\n",
       "\n",
       "    .dataframe thead th {\n",
       "        text-align: right;\n",
       "    }\n",
       "</style>\n",
       "<table border=\"1\" class=\"dataframe\">\n",
       "  <thead>\n",
       "    <tr style=\"text-align: right;\">\n",
       "      <th></th>\n",
       "      <th>citation</th>\n",
       "      <th>text</th>\n",
       "      <th>RE_NO</th>\n",
       "      <th>DOCNO</th>\n",
       "      <th>Category</th>\n",
       "      <th>type</th>\n",
       "      <th>type_consolidated</th>\n",
       "    </tr>\n",
       "  </thead>\n",
       "  <tbody>\n",
       "    <tr>\n",
       "      <th>0</th>\n",
       "      <td>IMM-6736-05</td>\n",
       "      <td>Notice of Motion contained within a Motion Rec...</td>\n",
       "      <td>10</td>\n",
       "      <td>8</td>\n",
       "      <td>notice</td>\n",
       "      <td>stay of removal</td>\n",
       "      <td>stay of removal</td>\n",
       "    </tr>\n",
       "    <tr>\n",
       "      <th>1</th>\n",
       "      <td>IMM-11783-12</td>\n",
       "      <td>Notice of Motion contained within a Motion Rec...</td>\n",
       "      <td>2</td>\n",
       "      <td>2</td>\n",
       "      <td>notice</td>\n",
       "      <td>stay of removal</td>\n",
       "      <td>stay of removal</td>\n",
       "    </tr>\n",
       "    <tr>\n",
       "      <th>2</th>\n",
       "      <td>IMM-3007-07</td>\n",
       "      <td>Avis de requête qui se trouve dans le dossier ...</td>\n",
       "      <td>6</td>\n",
       "      <td>2</td>\n",
       "      <td>notice</td>\n",
       "      <td>stay of removal</td>\n",
       "      <td>stay of removal</td>\n",
       "    </tr>\n",
       "    <tr>\n",
       "      <th>3</th>\n",
       "      <td>IMM-218-08</td>\n",
       "      <td>Notice of Motion contained within a Motion Rec...</td>\n",
       "      <td>3</td>\n",
       "      <td>3</td>\n",
       "      <td>notice</td>\n",
       "      <td>stay of removal</td>\n",
       "      <td>stay of removal</td>\n",
       "    </tr>\n",
       "    <tr>\n",
       "      <th>4</th>\n",
       "      <td>IMM-3350-17</td>\n",
       "      <td>Notice of Motion contained within a Motion Rec...</td>\n",
       "      <td>7</td>\n",
       "      <td>7</td>\n",
       "      <td>notice</td>\n",
       "      <td>stay of removal</td>\n",
       "      <td>stay of removal</td>\n",
       "    </tr>\n",
       "    <tr>\n",
       "      <th>...</th>\n",
       "      <td>...</td>\n",
       "      <td>...</td>\n",
       "      <td>...</td>\n",
       "      <td>...</td>\n",
       "      <td>...</td>\n",
       "      <td>...</td>\n",
       "      <td>...</td>\n",
       "    </tr>\n",
       "    <tr>\n",
       "      <th>303</th>\n",
       "      <td>IMM-3757-13</td>\n",
       "      <td>Notice of Motion contained within a Motion Rec...</td>\n",
       "      <td>4</td>\n",
       "      <td>4</td>\n",
       "      <td>notice</td>\n",
       "      <td>dismiss</td>\n",
       "      <td>other</td>\n",
       "    </tr>\n",
       "    <tr>\n",
       "      <th>304</th>\n",
       "      <td>IMM-6053-18</td>\n",
       "      <td>Notice of Motion contained within a Motion Rec...</td>\n",
       "      <td>61</td>\n",
       "      <td>30</td>\n",
       "      <td>notice</td>\n",
       "      <td>dismiss</td>\n",
       "      <td>other</td>\n",
       "    </tr>\n",
       "    <tr>\n",
       "      <th>305</th>\n",
       "      <td>IMM-104-20</td>\n",
       "      <td>Notice of Motion contained within a Motion Rec...</td>\n",
       "      <td>4</td>\n",
       "      <td>3</td>\n",
       "      <td>notice</td>\n",
       "      <td>stay of removal</td>\n",
       "      <td>stay of removal</td>\n",
       "    </tr>\n",
       "    <tr>\n",
       "      <th>306</th>\n",
       "      <td>IMM-3145-21</td>\n",
       "      <td>Notice of Motion contained within a Motion Rec...</td>\n",
       "      <td>5</td>\n",
       "      <td>3</td>\n",
       "      <td>notice</td>\n",
       "      <td>stay of removal</td>\n",
       "      <td>stay of removal</td>\n",
       "    </tr>\n",
       "    <tr>\n",
       "      <th>307</th>\n",
       "      <td>IMM-5691-20</td>\n",
       "      <td>Notice of Motion contained within a Motion Rec...</td>\n",
       "      <td>5</td>\n",
       "      <td>3</td>\n",
       "      <td>notice</td>\n",
       "      <td>stay of removal</td>\n",
       "      <td>stay of removal</td>\n",
       "    </tr>\n",
       "  </tbody>\n",
       "</table>\n",
       "<p>308 rows × 7 columns</p>\n",
       "</div>"
      ],
      "text/plain": [
       "         citation                                               text  RE_NO   \n",
       "0     IMM-6736-05  Notice of Motion contained within a Motion Rec...     10  \\\n",
       "1    IMM-11783-12  Notice of Motion contained within a Motion Rec...      2   \n",
       "2     IMM-3007-07  Avis de requête qui se trouve dans le dossier ...      6   \n",
       "3      IMM-218-08  Notice of Motion contained within a Motion Rec...      3   \n",
       "4     IMM-3350-17  Notice of Motion contained within a Motion Rec...      7   \n",
       "..            ...                                                ...    ...   \n",
       "303   IMM-3757-13  Notice of Motion contained within a Motion Rec...      4   \n",
       "304   IMM-6053-18  Notice of Motion contained within a Motion Rec...     61   \n",
       "305    IMM-104-20  Notice of Motion contained within a Motion Rec...      4   \n",
       "306   IMM-3145-21  Notice of Motion contained within a Motion Rec...      5   \n",
       "307   IMM-5691-20  Notice of Motion contained within a Motion Rec...      5   \n",
       "\n",
       "     DOCNO Category             type type_consolidated  \n",
       "0        8   notice  stay of removal   stay of removal  \n",
       "1        2   notice  stay of removal   stay of removal  \n",
       "2        2   notice  stay of removal   stay of removal  \n",
       "3        3   notice  stay of removal   stay of removal  \n",
       "4        7   notice  stay of removal   stay of removal  \n",
       "..     ...      ...              ...               ...  \n",
       "303      4   notice          dismiss             other  \n",
       "304     30   notice          dismiss             other  \n",
       "305      3   notice  stay of removal   stay of removal  \n",
       "306      3   notice  stay of removal   stay of removal  \n",
       "307      3   notice  stay of removal   stay of removal  \n",
       "\n",
       "[308 rows x 7 columns]"
      ]
     },
     "execution_count": 3,
     "metadata": {},
     "output_type": "execute_result"
    }
   ],
   "source": [
    "# Load Human Coded Data from Excel file\n",
    "df_human_coding = pd.read_excel(stay_notice_type_training_data)\n",
    "df_human_coding"
   ]
  },
  {
   "cell_type": "code",
   "execution_count": 4,
   "id": "ce042443",
   "metadata": {},
   "outputs": [
    {
     "name": "stdout",
     "output_type": "stream",
     "text": [
      "308\n"
     ]
    }
   ],
   "source": [
    "# produce training doc for notice types - CHAT STYLE\n",
    "\n",
    "df_human_coding['completion'] = df_human_coding['type_consolidated'].apply(lambda x: \"stay of removal\" if x == \"stay of removal\" else \"other\")\n",
    "\n",
    "system_message = \"\"\"You are given a notice of motion. Return 'stay of removal' if the notice is about a stay of removal.\n",
    "Otherwise return 'other'. Note that stays of release from detention are not stays of removal so should be categorized as other.\"\"\"\n",
    "\n",
    "# randomly shuffle df_human_coding with seed 42\n",
    "df_human_coding = df_human_coding.sample(frac=1, random_state=42).reset_index(drop=True)\n",
    "\n",
    "cases_to_compile = []\n",
    "for x in range(len(df_human_coding)):\n",
    "    case_dict={}\n",
    "    case_dict['messages']=[\n",
    "        {\n",
    "            \"role\": \"system\",\n",
    "            \"content\": system_message\n",
    "        },\n",
    "        {\n",
    "            \"role\": \"user\",\n",
    "            \"content\": df_human_coding['text'].iloc[x].replace('\\n','').replace('\\t','').strip()\n",
    "        },\n",
    "        {\n",
    "            \"role\": \"assistant\",\n",
    "            \"content\": df_human_coding['completion'].iloc[x].strip()\n",
    "        }\n",
    "    ]\n",
    "    cases_to_compile.append(case_dict)\n",
    "print(len(cases_to_compile))\n",
    "\n",
    "with open(stay_notice_types_output, 'w', encoding='utf8') as out_file:\n",
    "    for d in cases_to_compile:\n",
    "            out_file.write(json.dumps(d, ensure_ascii=False))\n",
    "            out_file.write(\"\\n\")"
   ]
  },
  {
   "cell_type": "code",
   "execution_count": 5,
   "id": "db83f9d6",
   "metadata": {},
   "outputs": [
    {
     "data": {
      "text/plain": [
       "completion\n",
       "stay of removal    234\n",
       "other               74\n",
       "Name: count, dtype: int64"
      ]
     },
     "execution_count": 5,
     "metadata": {},
     "output_type": "execute_result"
    }
   ],
   "source": [
    "# get counts of df_human_coding['type_consolidated']\n",
    "df_human_coding['completion'].value_counts()"
   ]
  },
  {
   "cell_type": "code",
   "execution_count": null,
   "id": "1a5513fd",
   "metadata": {},
   "outputs": [],
   "source": [
    "client.files.create(\n",
    "  file=open(stay_notice_types_output, \"rb\"),\n",
    "  purpose=\"fine-tune\"\n",
    ")"
   ]
  },
  {
   "cell_type": "code",
   "execution_count": null,
   "id": "229fbfb3",
   "metadata": {},
   "outputs": [],
   "source": [
    "# Get file id for training file from pior cell ouput\n",
    "\n",
    "client.fine_tuning.jobs.create(\n",
    "  training_file='file-IIFmdIhHSAK87EiddYBEQD65', \n",
    "  model=\"gpt-3.5-turbo\",\n",
    "  suffix = \"stays_notice_types\"\n",
    ")\n",
    "\n",
    "# Will receive an email with the model id when fine tuning is done\n",
    "# Consult fine-tuning UI to check on progress and to monitor loss"
   ]
  },
  {
   "cell_type": "markdown",
   "id": "328ce1d0",
   "metadata": {},
   "source": [
    "### Produce training docs for orders models\n"
   ]
  },
  {
   "cell_type": "code",
   "execution_count": 6,
   "id": "0b091fea",
   "metadata": {},
   "outputs": [
    {
     "data": {
      "text/html": [
       "<div>\n",
       "<style scoped>\n",
       "    .dataframe tbody tr th:only-of-type {\n",
       "        vertical-align: middle;\n",
       "    }\n",
       "\n",
       "    .dataframe tbody tr th {\n",
       "        vertical-align: top;\n",
       "    }\n",
       "\n",
       "    .dataframe thead th {\n",
       "        text-align: right;\n",
       "    }\n",
       "</style>\n",
       "<table border=\"1\" class=\"dataframe\">\n",
       "  <thead>\n",
       "    <tr style=\"text-align: right;\">\n",
       "      <th></th>\n",
       "      <th>citation</th>\n",
       "      <th>text</th>\n",
       "      <th>RE_NO</th>\n",
       "      <th>DOCNO</th>\n",
       "      <th>DOC_DT</th>\n",
       "      <th>Category</th>\n",
       "      <th>type</th>\n",
       "      <th>outcome</th>\n",
       "    </tr>\n",
       "  </thead>\n",
       "  <tbody>\n",
       "    <tr>\n",
       "      <th>0</th>\n",
       "      <td>IMM-839-05</td>\n",
       "      <td>Order rendered by The Honourable Madam Justice...</td>\n",
       "      <td>17</td>\n",
       "      <td>13.0</td>\n",
       "      <td>2005-03-14T00:00:00</td>\n",
       "      <td>order</td>\n",
       "      <td>stay of removal</td>\n",
       "      <td>dismissed</td>\n",
       "    </tr>\n",
       "    <tr>\n",
       "      <th>1</th>\n",
       "      <td>IMM-473-16</td>\n",
       "      <td>Order rendered by Mireille Tabib, Prothonotary...</td>\n",
       "      <td>23</td>\n",
       "      <td>NaN</td>\n",
       "      <td>2016-02-24T00:00:00</td>\n",
       "      <td>order</td>\n",
       "      <td>extension</td>\n",
       "      <td>other</td>\n",
       "    </tr>\n",
       "    <tr>\n",
       "      <th>2</th>\n",
       "      <td>IMM-3376-08</td>\n",
       "      <td>Order rendered by The Honourable Mr. Justice P...</td>\n",
       "      <td>11</td>\n",
       "      <td>8.0</td>\n",
       "      <td>2008-07-31T00:00:00</td>\n",
       "      <td>order</td>\n",
       "      <td>stay of removal</td>\n",
       "      <td>dismissed</td>\n",
       "    </tr>\n",
       "    <tr>\n",
       "      <th>3</th>\n",
       "      <td>IMM-4803-15</td>\n",
       "      <td>Ordonnance rendu(e) par Monsieur le juge Harri...</td>\n",
       "      <td>24</td>\n",
       "      <td>16.0</td>\n",
       "      <td>2016-01-13T00:00:00</td>\n",
       "      <td>order</td>\n",
       "      <td>leave</td>\n",
       "      <td>granted</td>\n",
       "    </tr>\n",
       "    <tr>\n",
       "      <th>4</th>\n",
       "      <td>IMM-2507-08</td>\n",
       "      <td>Order rendered by The Honourable Mr. Justice C...</td>\n",
       "      <td>14</td>\n",
       "      <td>9.0</td>\n",
       "      <td>2008-06-05T00:00:00</td>\n",
       "      <td>order</td>\n",
       "      <td>stay of removal</td>\n",
       "      <td>granted</td>\n",
       "    </tr>\n",
       "    <tr>\n",
       "      <th>...</th>\n",
       "      <td>...</td>\n",
       "      <td>...</td>\n",
       "      <td>...</td>\n",
       "      <td>...</td>\n",
       "      <td>...</td>\n",
       "      <td>...</td>\n",
       "      <td>...</td>\n",
       "      <td>...</td>\n",
       "    </tr>\n",
       "    <tr>\n",
       "      <th>340</th>\n",
       "      <td>IMM-4767-09</td>\n",
       "      <td>Copy of Reasons for Judgment and Judgment date...</td>\n",
       "      <td>12</td>\n",
       "      <td>NaN</td>\n",
       "      <td>2009-10-01T00:00:00</td>\n",
       "      <td>order</td>\n",
       "      <td>other</td>\n",
       "      <td>other</td>\n",
       "    </tr>\n",
       "    <tr>\n",
       "      <th>341</th>\n",
       "      <td>IMM-5863-15</td>\n",
       "      <td>Copy of Order dated 24-JAN-2017 rendered by Ma...</td>\n",
       "      <td>39</td>\n",
       "      <td>NaN</td>\n",
       "      <td>2017-01-24T00:00:00</td>\n",
       "      <td>order</td>\n",
       "      <td>other</td>\n",
       "      <td>other</td>\n",
       "    </tr>\n",
       "    <tr>\n",
       "      <th>342</th>\n",
       "      <td>IMM-5445-10</td>\n",
       "      <td>Copy of Order dated 09-DEC-2010 rendered by Ro...</td>\n",
       "      <td>19</td>\n",
       "      <td>NaN</td>\n",
       "      <td>2010-12-09T00:00:00</td>\n",
       "      <td>order</td>\n",
       "      <td>confidentiality</td>\n",
       "      <td>other</td>\n",
       "    </tr>\n",
       "    <tr>\n",
       "      <th>343</th>\n",
       "      <td>IMM-4283-21</td>\n",
       "      <td>Order rendered by Kathleen Ring, Prothonotary ...</td>\n",
       "      <td>12</td>\n",
       "      <td>7.0</td>\n",
       "      <td>2021-08-10T00:00:00</td>\n",
       "      <td>order</td>\n",
       "      <td>extension</td>\n",
       "      <td>granted</td>\n",
       "    </tr>\n",
       "    <tr>\n",
       "      <th>344</th>\n",
       "      <td>IMM-1009-10</td>\n",
       "      <td>Ordonnance rendu(e) par Monsieur le juge de Mo...</td>\n",
       "      <td>23</td>\n",
       "      <td>14.0</td>\n",
       "      <td>2010-03-29T00:00:00</td>\n",
       "      <td>order</td>\n",
       "      <td>stay of removal</td>\n",
       "      <td>dismissed</td>\n",
       "    </tr>\n",
       "  </tbody>\n",
       "</table>\n",
       "<p>345 rows × 8 columns</p>\n",
       "</div>"
      ],
      "text/plain": [
       "        citation                                               text  RE_NO   \n",
       "0     IMM-839-05  Order rendered by The Honourable Madam Justice...     17  \\\n",
       "1     IMM-473-16  Order rendered by Mireille Tabib, Prothonotary...     23   \n",
       "2    IMM-3376-08  Order rendered by The Honourable Mr. Justice P...     11   \n",
       "3    IMM-4803-15  Ordonnance rendu(e) par Monsieur le juge Harri...     24   \n",
       "4    IMM-2507-08  Order rendered by The Honourable Mr. Justice C...     14   \n",
       "..           ...                                                ...    ...   \n",
       "340  IMM-4767-09  Copy of Reasons for Judgment and Judgment date...     12   \n",
       "341  IMM-5863-15  Copy of Order dated 24-JAN-2017 rendered by Ma...     39   \n",
       "342  IMM-5445-10  Copy of Order dated 09-DEC-2010 rendered by Ro...     19   \n",
       "343  IMM-4283-21  Order rendered by Kathleen Ring, Prothonotary ...     12   \n",
       "344  IMM-1009-10  Ordonnance rendu(e) par Monsieur le juge de Mo...     23   \n",
       "\n",
       "     DOCNO               DOC_DT Category             type    outcome  \n",
       "0     13.0  2005-03-14T00:00:00    order  stay of removal  dismissed  \n",
       "1      NaN  2016-02-24T00:00:00    order        extension      other  \n",
       "2      8.0  2008-07-31T00:00:00    order  stay of removal  dismissed  \n",
       "3     16.0  2016-01-13T00:00:00    order            leave    granted  \n",
       "4      9.0  2008-06-05T00:00:00    order  stay of removal    granted  \n",
       "..     ...                  ...      ...              ...        ...  \n",
       "340    NaN  2009-10-01T00:00:00    order            other      other  \n",
       "341    NaN  2017-01-24T00:00:00    order            other      other  \n",
       "342    NaN  2010-12-09T00:00:00    order  confidentiality      other  \n",
       "343    7.0  2021-08-10T00:00:00    order        extension    granted  \n",
       "344   14.0  2010-03-29T00:00:00    order  stay of removal  dismissed  \n",
       "\n",
       "[345 rows x 8 columns]"
      ]
     },
     "execution_count": 6,
     "metadata": {},
     "output_type": "execute_result"
    }
   ],
   "source": [
    "# Load Human Coded Data from Excel file\n",
    "df_human_coding = pd.read_excel(stay_order_type_training_data)\n",
    "df_human_coding"
   ]
  },
  {
   "cell_type": "code",
   "execution_count": 7,
   "id": "bc74d8af",
   "metadata": {},
   "outputs": [
    {
     "name": "stdout",
     "output_type": "stream",
     "text": [
      "345\n"
     ]
    }
   ],
   "source": [
    "# produce training doc for order types\n",
    "def order_type(x):\n",
    "    if x == \"stay of removal\":\n",
    "        return \"stay of removal\"\n",
    "\n",
    "    elif x.startswith(\"motion \"):\n",
    "        return x\n",
    "    else:\n",
    "        return \"other\"\n",
    "\n",
    "df_human_coding['completion'] = df_human_coding['type'].apply(order_type)\n",
    "\n",
    "# randomly shuffle df_human_coding with seed 42\n",
    "df_human_coding = df_human_coding.sample(frac=1, random_state=42).reset_index(drop=True)\n",
    "\n",
    "system_message = \"\"\"You are given a Federal Court docket entry about an order. Return 'motion #' (with the actual number) where\n",
    "the order refers to a motion number. If no motion number is indicated, and the order clearly involves a stay of removal, return 'stay of removal'.\n",
    "Otherwise return 'other'. Note that stays of release from detention are not stays of removal and so should be categorized as other.\"\"\" \n",
    "\n",
    "cases_to_compile = []\n",
    "for x in range(len(df_human_coding)):\n",
    "    case_dict={}\n",
    "    case_dict['messages']=[\n",
    "        {\n",
    "            \"role\": \"system\",\n",
    "            \"content\": system_message\n",
    "        },\n",
    "        {\n",
    "            \"role\": \"user\",\n",
    "            \"content\": df_human_coding['text'].iloc[x].replace('\\n','').replace('\\t','').strip()\n",
    "        },\n",
    "        {\n",
    "            \"role\": \"assistant\",\n",
    "            \"content\": df_human_coding['completion'].iloc[x].strip()\n",
    "        }\n",
    "    ]\n",
    "    cases_to_compile.append(case_dict)\n",
    "    \n",
    "print(len(cases_to_compile))\n",
    "\n",
    "with open(stay_order_types_output, 'w', encoding='utf8') as out_file:\n",
    "    for d in cases_to_compile:\n",
    "            out_file.write(json.dumps(d, ensure_ascii=False))\n",
    "            out_file.write(\"\\n\")"
   ]
  },
  {
   "cell_type": "code",
   "execution_count": 8,
   "id": "6733834a",
   "metadata": {},
   "outputs": [
    {
     "data": {
      "text/plain": [
       "completion\n",
       "stay of removal    139\n",
       "other              124\n",
       "motion 3            19\n",
       "motion 4            15\n",
       "motion 2            12\n",
       "motion 5             8\n",
       "motion 6             4\n",
       "motion 10            4\n",
       "motion 14            2\n",
       "motion 15            2\n",
       "motion 11            2\n",
       "motion 9             2\n",
       "motion 8             2\n",
       "motion 13            2\n",
       "motion 20            2\n",
       "motion 17            1\n",
       "motion 16            1\n",
       "motion 50            1\n",
       "motion 12            1\n",
       "motion 18            1\n",
       "motion 21            1\n",
       "Name: count, dtype: int64"
      ]
     },
     "execution_count": 8,
     "metadata": {},
     "output_type": "execute_result"
    }
   ],
   "source": [
    "df_human_coding['completion'].value_counts()"
   ]
  },
  {
   "cell_type": "code",
   "execution_count": null,
   "id": "3738d098",
   "metadata": {},
   "outputs": [],
   "source": [
    "client.files.create(\n",
    "  file=open(stay_order_types_output, \"rb\"),\n",
    "  purpose=\"fine-tune\"\n",
    ")"
   ]
  },
  {
   "cell_type": "code",
   "execution_count": null,
   "id": "818f1ea1",
   "metadata": {},
   "outputs": [],
   "source": [
    "# Get file id for training file from pior cell ouput\n",
    "\n",
    "client.fine_tuning.jobs.create(\n",
    "  training_file='file-FI1IuWcVK3vHcxe7bBBDe5J4', \n",
    "  model=\"gpt-3.5-turbo\",\n",
    "  suffix = \"stays_order_types\"\n",
    ")\n",
    "\n",
    "\n",
    "# Will receive an email with the model id when fine tuning is done\n",
    "# Consult fine-tuning UI to check on progress and to monitor loss"
   ]
  },
  {
   "cell_type": "code",
   "execution_count": 9,
   "id": "8582b1a2",
   "metadata": {},
   "outputs": [
    {
     "name": "stdout",
     "output_type": "stream",
     "text": [
      "345\n"
     ]
    }
   ],
   "source": [
    "# produce training doc for order outcomes\n",
    "\n",
    "df_human_coding['completion'] = df_human_coding['outcome']\n",
    "\n",
    "\n",
    "system_message = \"\"\"You are given a Federal Court docket entry about an order. Return 'granted' if the entry reports that a motion or an application\n",
    "has been granted. Return 'dismissed' if the entry reports that a motion or an application has been dismissed. Return 'other' if the outcome is unclear\n",
    "or if the motion or application is clearly only procedural in nature (e.g. scheduling, documents, adjournment, etc.).\"\"\" \n",
    "\n",
    "cases_to_compile = []\n",
    "for x in range(len(df_human_coding)):\n",
    "    case_dict={}\n",
    "    case_dict['messages']=[\n",
    "        {\n",
    "            \"role\": \"system\",\n",
    "            \"content\": system_message\n",
    "        },\n",
    "        {\n",
    "            \"role\": \"user\",\n",
    "            \"content\": df_human_coding['text'].iloc[x].replace('\\n','').replace('\\t','').strip()\n",
    "        },\n",
    "        {\n",
    "            \"role\": \"assistant\",\n",
    "            \"content\": df_human_coding['completion'].iloc[x].strip()\n",
    "        }\n",
    "    ]\n",
    "    cases_to_compile.append(case_dict)\n",
    "    \n",
    "print(len(cases_to_compile))\n",
    "\n",
    "with open(stay_order_outcomes_output, 'w', encoding='utf8') as out_file:\n",
    "    for d in cases_to_compile:\n",
    "            out_file.write(json.dumps(d, ensure_ascii=False))\n",
    "            out_file.write(\"\\n\")"
   ]
  },
  {
   "cell_type": "code",
   "execution_count": 10,
   "id": "182b8a5e",
   "metadata": {},
   "outputs": [
    {
     "data": {
      "text/plain": [
       "completion\n",
       "granted      164\n",
       "dismissed    132\n",
       "other         49\n",
       "Name: count, dtype: int64"
      ]
     },
     "execution_count": 10,
     "metadata": {},
     "output_type": "execute_result"
    }
   ],
   "source": [
    "df_human_coding['completion'].value_counts()"
   ]
  },
  {
   "cell_type": "code",
   "execution_count": 11,
   "id": "2a49ad3c",
   "metadata": {},
   "outputs": [
    {
     "data": {
      "text/plain": [
       "FileObject(id='file-GdYKfOMrjRCZVX7GQn2tm6PV', bytes=366546, created_at=1708607886, filename='stays_order_outcomes_human_coded.jsonl', object='file', purpose='fine-tune', status='processed', status_details=None)"
      ]
     },
     "execution_count": 11,
     "metadata": {},
     "output_type": "execute_result"
    }
   ],
   "source": [
    "client.files.create(\n",
    "  file=open(stay_order_outcomes_output, \"rb\"),\n",
    "  purpose=\"fine-tune\"\n",
    ")"
   ]
  },
  {
   "cell_type": "code",
   "execution_count": 13,
   "id": "551356d0",
   "metadata": {},
   "outputs": [
    {
     "data": {
      "text/plain": [
       "FineTuningJob(id='ftjob-nNXH9eHPePfpdPGqUQbYUZYk', created_at=1708607971, error=Error(code=None, message=None, param=None, error=None), fine_tuned_model=None, finished_at=None, hyperparameters=Hyperparameters(n_epochs='auto', batch_size='auto', learning_rate_multiplier='auto'), model='gpt-3.5-turbo-0613', object='fine_tuning.job', organization_id='org-OBNXT1YSS6IuFCMYYC5ICu3T', result_files=[], status='validating_files', trained_tokens=None, training_file='file-GdYKfOMrjRCZVX7GQn2tm6PV', validation_file=None)"
      ]
     },
     "execution_count": 13,
     "metadata": {},
     "output_type": "execute_result"
    }
   ],
   "source": [
    "# Get file id for training file from prior cell output\n",
    "\n",
    "client.fine_tuning.jobs.create(\n",
    "  training_file='file-GdYKfOMrjRCZVX7GQn2tm6PV', \n",
    "  model=\"gpt-3.5-turbo\",\n",
    "  suffix = \"stays_outcomes\"\n",
    ")\n",
    "\n",
    "# Will receive an email with the model id when fine tuning is done\n",
    "# Consult fine-tuning UI to check on progress and to monitor loss"
   ]
  },
  {
   "cell_type": "markdown",
   "id": "ae5e3f5b",
   "metadata": {},
   "source": [
    "### Get Training Docs for Judges model\n"
   ]
  },
  {
   "cell_type": "code",
   "execution_count": 14,
   "id": "e0f73384",
   "metadata": {},
   "outputs": [
    {
     "data": {
      "text/html": [
       "<div>\n",
       "<style scoped>\n",
       "    .dataframe tbody tr th:only-of-type {\n",
       "        vertical-align: middle;\n",
       "    }\n",
       "\n",
       "    .dataframe tbody tr th {\n",
       "        vertical-align: top;\n",
       "    }\n",
       "\n",
       "    .dataframe thead th {\n",
       "        text-align: right;\n",
       "    }\n",
       "</style>\n",
       "<table border=\"1\" class=\"dataframe\">\n",
       "  <thead>\n",
       "    <tr style=\"text-align: right;\">\n",
       "      <th></th>\n",
       "      <th>text</th>\n",
       "      <th>judge</th>\n",
       "    </tr>\n",
       "  </thead>\n",
       "  <tbody>\n",
       "    <tr>\n",
       "      <th>0</th>\n",
       "      <td>(Final decision) Reasons for Judgment and Judg...</td>\n",
       "      <td>Rochester</td>\n",
       "    </tr>\n",
       "    <tr>\n",
       "      <th>1</th>\n",
       "      <td>(Décision finale) Jugement rendu(e) par Madame...</td>\n",
       "      <td>Elizabeth Walker</td>\n",
       "    </tr>\n",
       "    <tr>\n",
       "      <th>2</th>\n",
       "      <td>(Décision finale) Jugement rendu(e) par Monsie...</td>\n",
       "      <td>Roy</td>\n",
       "    </tr>\n",
       "    <tr>\n",
       "      <th>3</th>\n",
       "      <td>Jugement et Motifs en date du 18-MAI-2021 rend...</td>\n",
       "      <td>Martineau</td>\n",
       "    </tr>\n",
       "    <tr>\n",
       "      <th>4</th>\n",
       "      <td>(Final decision) Reasons for Judgment and Judg...</td>\n",
       "      <td>Go</td>\n",
       "    </tr>\n",
       "    <tr>\n",
       "      <th>...</th>\n",
       "      <td>...</td>\n",
       "      <td>...</td>\n",
       "    </tr>\n",
       "    <tr>\n",
       "      <th>678</th>\n",
       "      <td>Certificate of Order rendered by The Honourabl...</td>\n",
       "      <td>Dawson</td>\n",
       "    </tr>\n",
       "    <tr>\n",
       "      <th>679</th>\n",
       "      <td>Certificat de l'ordonnance rendu(e) par Monsie...</td>\n",
       "      <td>Blanchard</td>\n",
       "    </tr>\n",
       "    <tr>\n",
       "      <th>680</th>\n",
       "      <td>(Final decision) Order rendered by The Honoura...</td>\n",
       "      <td>Blanchard</td>\n",
       "    </tr>\n",
       "    <tr>\n",
       "      <th>681</th>\n",
       "      <td>(Décision finale) Motifs de jugement et jugeme...</td>\n",
       "      <td>Shore</td>\n",
       "    </tr>\n",
       "    <tr>\n",
       "      <th>682</th>\n",
       "      <td>Amended Reasons for Judgment and Judgment date...</td>\n",
       "      <td>Strickland</td>\n",
       "    </tr>\n",
       "  </tbody>\n",
       "</table>\n",
       "<p>683 rows × 2 columns</p>\n",
       "</div>"
      ],
      "text/plain": [
       "                                                  text             judge\n",
       "0    (Final decision) Reasons for Judgment and Judg...         Rochester\n",
       "1    (Décision finale) Jugement rendu(e) par Madame...  Elizabeth Walker\n",
       "2    (Décision finale) Jugement rendu(e) par Monsie...               Roy\n",
       "3    Jugement et Motifs en date du 18-MAI-2021 rend...         Martineau\n",
       "4    (Final decision) Reasons for Judgment and Judg...                Go\n",
       "..                                                 ...               ...\n",
       "678  Certificate of Order rendered by The Honourabl...            Dawson\n",
       "679  Certificat de l'ordonnance rendu(e) par Monsie...         Blanchard\n",
       "680  (Final decision) Order rendered by The Honoura...         Blanchard\n",
       "681  (Décision finale) Motifs de jugement et jugeme...             Shore\n",
       "682  Amended Reasons for Judgment and Judgment date...        Strickland\n",
       "\n",
       "[683 rows x 2 columns]"
      ]
     },
     "execution_count": 14,
     "metadata": {},
     "output_type": "execute_result"
    }
   ],
   "source": [
    "# Load Human Coded Data from Excel file\n",
    "df_human_coding = pd.read_excel(subfield_training_data)\n",
    "df_human_coding"
   ]
  },
  {
   "cell_type": "code",
   "execution_count": 15,
   "id": "2fabfd5a",
   "metadata": {},
   "outputs": [
    {
     "name": "stdout",
     "output_type": "stream",
     "text": [
      "683\n"
     ]
    }
   ],
   "source": [
    "#get prompts and labels for training judges\n",
    "\n",
    "df_human_coding['completion'] = df_human_coding['judge']\n",
    "\n",
    "# randomly shuffle df_human_coding with seed 42\n",
    "df_human_coding = df_human_coding.sample(frac=1, random_state=42).reset_index(drop=True)\n",
    "\n",
    "system_message = \"\"\"You are given a Federal Court docket entry. If the docket entry includes a specific judge identified by name\n",
    "then return the judge's name. If the docket entry does not include a specific judge identified by name, or if anything is \n",
    "unclear then return 'other'.\"\"\" \n",
    "\n",
    "cases_to_compile = []\n",
    "for x in range(len(df_human_coding)):\n",
    "    case_dict={}\n",
    "    case_dict['messages']=[\n",
    "        {\n",
    "            \"role\": \"system\",\n",
    "            \"content\": system_message\n",
    "        },\n",
    "        {\n",
    "            \"role\": \"user\",\n",
    "            \"content\": df_human_coding['text'].iloc[x].replace('\\n','').replace('\\t','').strip()\n",
    "        },\n",
    "        {\n",
    "            \"role\": \"assistant\",\n",
    "            \"content\": df_human_coding['completion'].iloc[x].strip()\n",
    "        }\n",
    "    ]\n",
    "    cases_to_compile.append(case_dict)\n",
    "    \n",
    "print(len(cases_to_compile))\n",
    "\n",
    "with open(judges_output, 'w', encoding='utf8') as out_file:\n",
    "    for d in cases_to_compile:\n",
    "            out_file.write(json.dumps(d, ensure_ascii=False))\n",
    "            out_file.write(\"\\n\")"
   ]
  },
  {
   "cell_type": "code",
   "execution_count": 16,
   "id": "09b7762d",
   "metadata": {},
   "outputs": [
    {
     "data": {
      "text/plain": [
       "completion\n",
       "other        35\n",
       "Shore        28\n",
       "Gagné        22\n",
       "Heneghan     21\n",
       "Beaudry      21\n",
       "             ..\n",
       "McKeown       1\n",
       "Go            1\n",
       "MacKay        1\n",
       "Mainville     1\n",
       "Hansen        1\n",
       "Name: count, Length: 86, dtype: int64"
      ]
     },
     "execution_count": 16,
     "metadata": {},
     "output_type": "execute_result"
    }
   ],
   "source": [
    "df_human_coding['completion'].value_counts()"
   ]
  },
  {
   "cell_type": "code",
   "execution_count": 17,
   "id": "64b04596",
   "metadata": {},
   "outputs": [
    {
     "data": {
      "text/plain": [
       "FileObject(id='file-HnWbi2eY8QM0DqYBP3iDBVYn', bytes=661240, created_at=1708608356, filename='stays_judges_human_coded.jsonl', object='file', purpose='fine-tune', status='processed', status_details=None)"
      ]
     },
     "execution_count": 17,
     "metadata": {},
     "output_type": "execute_result"
    }
   ],
   "source": [
    "client.files.create(\n",
    "  file=open(judges_output, \"rb\"),\n",
    "  purpose=\"fine-tune\"\n",
    ")"
   ]
  },
  {
   "cell_type": "code",
   "execution_count": 18,
   "id": "3c552adf",
   "metadata": {},
   "outputs": [
    {
     "data": {
      "text/plain": [
       "FineTuningJob(id='ftjob-B5WM5VO4wkPsd81yeEC26nKG', created_at=1708608403, error=Error(code=None, message=None, param=None, error=None), fine_tuned_model=None, finished_at=None, hyperparameters=Hyperparameters(n_epochs='auto', batch_size='auto', learning_rate_multiplier='auto'), model='gpt-3.5-turbo-0613', object='fine_tuning.job', organization_id='org-OBNXT1YSS6IuFCMYYC5ICu3T', result_files=[], status='validating_files', trained_tokens=None, training_file='file-HnWbi2eY8QM0DqYBP3iDBVYn', validation_file=None)"
      ]
     },
     "execution_count": 18,
     "metadata": {},
     "output_type": "execute_result"
    }
   ],
   "source": [
    "# Get file id for training file from prior cell output\n",
    "\n",
    "client.fine_tuning.jobs.create(\n",
    "  training_file='file-HnWbi2eY8QM0DqYBP3iDBVYn', \n",
    "  model=\"gpt-3.5-turbo\",\n",
    "  suffix = \"stays_judges\"\n",
    ")\n",
    "\n",
    "# Will receive an email with the model id when fine tuning is done\n",
    "# Consult fine-tuning UI to check on progress and to monitor loss"
   ]
  },
  {
   "cell_type": "markdown",
   "id": "31f3bfd1",
   "metadata": {},
   "source": [
    "### NOTES\n",
    "\n",
    "### Send training data to OpenAI to build models\n",
    "\n",
    "### NOTE: In the Luck of the Draw article, ada was used as the base model, but that model is no longer available, and other legacy models are likely to be deprecated soon. So, instead use GPT3.5-Turbo, which is a chat style model (2 x the cost of ada):\n",
    "\n",
    "### As of January 2024, the fine tuning process is described here:\n",
    "\n",
    "https://platform.openai.com/docs/guides/fine-tuning/common-use-cases?lang=python\n",
    "\n",
    "Main point is to use the JSONL files created by this notebook (see training_data directory) to create individual models using the OpenAI fine-tuning UI.\n",
    "\n",
    "### Models Produced:\n",
    "\n",
    "#### Notice types\n",
    "- ada:ft-refugee-law-lab:stays-notice-types-2022-11-18-21-13-59\n",
    "- ft:gpt-3.5-turbo-0613:refugee-law-lab:stays-notice-types:8uthOYkO \n",
    "\n",
    "#### Order types\n",
    "- ada:ft-refugee-law-lab:stay-orders-types-2022-11-16-15-07-08\n",
    "- ft:gpt-3.5-turbo-0613:refugee-law-lab:stays-order-types:8uuXKz4l \n",
    "\n",
    "#### Order outcomes\n",
    "- ada:ft-refugee-law-lab:stay-orders-outcomes-2022-11-16-14-56-59\n",
    "- ft:gpt-3.5-turbo-0613:refugee-law-lab:stays-outcomes:8v442Ukp \n",
    "\n",
    "#### Judges\n",
    "- ada:ft-refugee-law-lab:judges-2022-11-13-22-35-55\n",
    "- ft:gpt-3.5-turbo-0613:refugee-law-lab:stays-judges:8v4XnuHv "
   ]
  },
  {
   "cell_type": "markdown",
   "id": "1dc27c37",
   "metadata": {},
   "source": []
  }
 ],
 "metadata": {
  "kernelspec": {
   "display_name": "venv",
   "language": "python",
   "name": "python3"
  },
  "language_info": {
   "codemirror_mode": {
    "name": "ipython",
    "version": 3
   },
   "file_extension": ".py",
   "mimetype": "text/x-python",
   "name": "python",
   "nbconvert_exporter": "python",
   "pygments_lexer": "ipython3",
   "version": "3.11.4"
  },
  "vscode": {
   "interpreter": {
    "hash": "e381b6b29463f81c409d5f497ef8fc76d297c06f87b0cdd7507714a429771417"
   }
  }
 },
 "nbformat": 4,
 "nbformat_minor": 5
}
